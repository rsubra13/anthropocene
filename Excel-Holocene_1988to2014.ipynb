{
 "metadata": {
  "name": "",
  "signature": "sha256:41f4239a48a616b02008c800e5ed6231ef5a9266d3533578351f028de3c7699c"
 },
 "nbformat": 3,
 "nbformat_minor": 0,
 "worksheets": [
  {
   "cells": [
    {
     "cell_type": "code",
     "collapsed": false,
     "input": [
      "import anthropocene.readers as rd\n",
      "from anthropocene.classes import Paper,KeyPaper\n",
      "dir_papers = rd.wos.from_dir(\"/Users/Ramki/Desktop/Anthropocene/Anthropocene Files/Holocene_1988to2014\")\n",
      "#dir_papers\n",
      "\n"
     ],
     "language": "python",
     "metadata": {},
     "outputs": []
    },
    {
     "cell_type": "code",
     "collapsed": false,
     "input": [
      "dir_papers[40]"
     ],
     "language": "python",
     "metadata": {},
     "outputs": []
    },
    {
     "cell_type": "code",
     "collapsed": false,
     "input": [
      "# December 1\n",
      "\n",
      "# Initialize to avoid overwriting\n",
      "keywords_list = []\n",
      "side_list=[]\n",
      "main_list = [] \n",
      "main_dict ={}\n",
      "\n",
      "\n",
      "keywords_list_new = []\n",
      "side_list_new=[]\n",
      "main_list_new = [] \n",
      "main_dict ={}\n",
      "count=1\n",
      "# This loop runs for each paper\n",
      "for r in dir_papers:\n",
      "    if r['keywords']:\n",
      "        print \"count::\" , count\n",
      "        #print \"################################Keywords::\" , r['keywords'] , r['date']\n",
      "        ### Make the lists empty to avoid overwriting\n",
      "        keywords_list = []\n",
      "        side_list=[]\n",
      "        main_list_new = [] \n",
      "        \n",
      "        # New dict\n",
      "        keywords_list_new = []\n",
      "        side_list_new=[]\n",
      "        main_list = [] \n",
      "        \n",
      "        ### This loop runs for each each keyword of a paper\n",
      "        for each_kw in r['keywords']:\n",
      "            each_kw = each_kw.strip().lower() # convert to lowercase, even if it is not.\n",
      "            try:\n",
      "                main_dict[r['date']][0].keys() # to direct it to main_dict\n",
      "                if r['date'] in main_dict.keys():\n",
      "                    lst = [item.keys() for item in main_dict[r['date']]]\n",
      "                    for i in lst:\n",
      "                            for j in i:\n",
      "                                if j not in side_list:\n",
      "                                    side_list.append(j)\n",
      "                    if any(each_kw in st for st in lst):\n",
      "                        #print \"##ALREADY\"\n",
      "                        kw_index = side_list.index(each_kw)\n",
      "                        main_dict[r['date']][kw_index][each_kw] += 1\n",
      "                        #print \"cool*************\" ,main_dict[r['date']] \n",
      "                    \n",
      "                    else:\n",
      "                       #print \"##else\"\n",
      "                        new_dict={}\n",
      "                        new_dict[each_kw] = 1\n",
      "                        main_dict[r['date']].append(new_dict)\n",
      "                        #print \"main dict here$$$$$$$ \" , main_dict\n",
      "                        #print \"herererrerer\" , main_dict[r['date']]      \n",
      "                           \n",
      "            except:\n",
      "                #print \"except\",main_dict\n",
      "                keywords_dict={}\n",
      "                side_list=[]\n",
      "                keywords_dict[each_kw] = 1\n",
      "                keywords_list.append(keywords_dict)\n",
      "                main_dict[r['date']]= keywords_list  \n",
      "                #print \"keywords_dict\" , keywords_dict , \"keywords_list\", keywords_list\n",
      "                #print \"maindict in except\" , main_dict\n",
      "        count=count+1"
     ],
     "language": "python",
     "metadata": {},
     "outputs": []
    },
    {
     "cell_type": "code",
     "collapsed": false,
     "input": [],
     "language": "python",
     "metadata": {},
     "outputs": []
    },
    {
     "cell_type": "code",
     "collapsed": false,
     "input": [
      "    #Prepare the dict for CSV\n",
      "    \n",
      "    papers = []\n",
      "    main_list =[]\n",
      "    main_dict\n",
      "\n",
      "\n",
      "    for k,val in main_dict.iteritems():\n",
      "            print k\n",
      "            paper = KeyPaper()\n",
      "            for j in val:\n",
      "                #print j\n",
      "                for l,m in j.iteritems():\n",
      "                    paper['date'] = k\n",
      "                    paper['keywords'] = l\n",
      "                    paper['count'] = m\n",
      "                    main_list.append(paper)\n",
      "                    paper={}\n",
      "                    \n",
      "  \n",
      "    #print \"main_list\", main_list\n",
      "   \n"
     ],
     "language": "python",
     "metadata": {},
     "outputs": []
    },
    {
     "cell_type": "code",
     "collapsed": false,
     "input": [
      "# Create the CSV File.\n",
      "\n",
      "import csv\n",
      "keys = ['date','keywords','count']\n",
      "f = open('Excel-Holocene_1988to2014.csv', 'wb')\n",
      "dict_writer = csv.DictWriter(f, keys)\n",
      "dict_writer.writer.writerow(keys)\n",
      "dict_writer.writerows(main_list)"
     ],
     "language": "python",
     "metadata": {},
     "outputs": []
    }
   ],
   "metadata": {}
  }
 ]
}