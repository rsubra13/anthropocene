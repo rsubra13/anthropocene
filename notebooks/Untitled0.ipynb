{
 "metadata": {
  "name": "",
  "signature": "sha256:ca7ed3ba23c2ab943a6ee32135312a18ad4b6c2ab901ca4bdaaefcb66d3c660f"
 },
 "nbformat": 3,
 "nbformat_minor": 0,
 "worksheets": []
}