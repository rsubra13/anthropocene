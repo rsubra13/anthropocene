{
 "metadata": {
  "name": "",
  "signature": "sha256:a18c85d4abdb38bff8a5c41ed23ec3a0c442f8ace56ec610a9c6e2d7631fa876"
 },
 "nbformat": 3,
 "nbformat_minor": 0,
 "worksheets": [
  {
   "cells": [
    {
     "cell_type": "code",
     "collapsed": false,
     "input": [
      "import anthropocene.readers as rd\n",
      "from anthropocene.classes import Paper,KeyPaper"
     ],
     "language": "python",
     "metadata": {},
     "outputs": []
    },
    {
     "cell_type": "code",
     "collapsed": false,
     "input": [
      "rd"
     ],
     "language": "python",
     "metadata": {},
     "outputs": []
    },
    {
     "cell_type": "code",
     "collapsed": false,
     "input": [
      "read_papers = rd.wos.read(\"/Users/Ramki/Downloads/Holocene_501_1000.txt\")"
     ],
     "language": "python",
     "metadata": {},
     "outputs": []
    },
    {
     "cell_type": "code",
     "collapsed": false,
     "input": [
      "rd.wos.parse(\"/Users/Ramki/Downloads/Holocene_501_1000.txt\")"
     ],
     "language": "python",
     "metadata": {},
     "outputs": []
    },
    {
     "cell_type": "code",
     "collapsed": false,
     "input": [
      "main_list = []\n",
      "main_dict = {}\n",
      "keywords_dict ={}\n",
      "keywords_list = []\n",
      "for r in read_papers:\n",
      "    if r['keywords']:\n",
      "        for each_kw in r['keywords']:\n",
      "            try:\n",
      "                keywords_dict[each_kw] += 1\n",
      "                keywords_list.append(keywords_dict)\n",
      "                main_dict[r['date']] = keywords_list\n",
      "            except:\n",
      "                keywords_dict[each_kw] = 1\n",
      "                keywords_list.append(keywords_dict)\n",
      "                main_dict[r['date']] = keywords_list"
     ],
     "language": "python",
     "metadata": {},
     "outputs": []
    },
    {
     "cell_type": "code",
     "collapsed": false,
     "input": [
      "main_dict"
     ],
     "language": "python",
     "metadata": {},
     "outputs": []
    },
    {
     "cell_type": "code",
     "collapsed": false,
     "input": [
      "dir_papers = rd.wos.from_dir(\"/Users/Ramki/Documents/ramki\")"
     ],
     "language": "python",
     "metadata": {},
     "outputs": []
    },
    {
     "cell_type": "code",
     "collapsed": false,
     "input": [
      "dir_papers"
     ],
     "language": "python",
     "metadata": {},
     "outputs": []
    },
    {
     "cell_type": "code",
     "collapsed": false,
     "input": [
      "    # Try the standard method.\n",
      "    # create a Paper for each wos_dict and append to this list\n",
      "    \n",
      "    from collections import OrderedDict\n",
      "    #collections.OrderedDict\n",
      "    \n",
      "    papers = []\n",
      "    global_keywords =[]\n",
      "    wos_data=dir_papers\n",
      "    print \"wos_data type\" , type(wos_data)\n",
      "    #handle dict inputs by converting to a 1-item list\n",
      "    if type(wos_data) is dict:\n",
      "        print \"yes its a dict\", type(wos_data)\n",
      "        wos_data = [wos_data]\n",
      "\n",
      "    # Define the direct relationships between WoS fieldtags and Paper keys.\n",
      "    translator = {\n",
      "        'date':'date',\n",
      "        'keywords':'keywords'\n",
      "        #'count' : None\n",
      "        }\n",
      "   \n",
      "        \n",
      "      new_dict= {}\n",
      "      new_list= []\n",
      "    # Perform the key convertions\n",
      "    for wos_dict in wos_data:\n",
      "        paper = KeyPaper()\n",
      "        #direct translations\n",
      "        if wos_dict['keywords']:\n",
      "                print \"wos_dict\" , wos_dict['keywords']\n",
      "                for each_kw in wos_dict['keywords']:\n",
      "                    new_kw = each_kw.strip().upper() # convert to lowercase, even if it is not.\n",
      "                    #print \"new_kw\", new_kw , wos_dict['date'], paper['date']\n",
      "                     \n",
      "                    try:\n",
      "                        author_index = papers['keywords'].index(new_kw)\n",
      "                        print \"author_index\", author_index\n",
      "                        if wos_dict['date'] in paper['date']:\n",
      "                            #print \"OK\" , paper['keywords']\n",
      "                            if new_kw in papers['keywords']:\n",
      "                                paper['count'] += 1\n",
      "                                print \"HURRAH\", new_kw , paper\n",
      "                               \n",
      "                            else:\n",
      "                                #print \"Index:::\", papers.keys().index(paper['date'])\n",
      "                                paper['date'] = wos_dict['date']\n",
      "                                paper['keywords'] = new_kw\n",
      "                                paper['count'] = 1\n",
      "                                global_keywords.append(new_kw)\n",
      "                                print \"ELSE:\", new_kw , paper\n",
      "                                \n",
      "                    except:\n",
      "                        paper['date'] = wos_dict['date']\n",
      "                        paper['keywords']= new_kw\n",
      "                        global_keywords.append(new_kw)\n",
      "                        paper['count'] = 1\n",
      "                        print \"except::\", new_kw\n",
      "                        \n",
      "                    #paper[translator[key]] = wos_dict[key]\n",
      "        else:\n",
      "            #print \"else\"\n",
      "            pass\n",
      "        #papers.append(paper)\n",
      "        \n",
      "  \n",
      "    # End wos_dict for loop.\n"
     ],
     "language": "python",
     "metadata": {},
     "outputs": []
    },
    {
     "cell_type": "code",
     "collapsed": false,
     "input": [
      "# New method:\n",
      "\n"
     ],
     "language": "python",
     "metadata": {},
     "outputs": []
    },
    {
     "cell_type": "code",
     "collapsed": false,
     "input": [
      "    # Try the standard method.\n",
      "    # create a Paper for each wos_dict and append to this list\n",
      "    \n",
      "    from collections import OrderedDict\n",
      "    #collections.OrderedDict\n",
      "    \n",
      "    papers = []\n",
      "    global_keywords =[]\n",
      "    wos_data=dir_papers\n",
      "    print \"wos_data type\" , type(wos_data)\n",
      "    #handle dict inputs by converting to a 1-item list\n",
      "    if type(wos_data) is dict:\n",
      "        print \"yes its a dict\", type(wos_data)\n",
      "        wos_data = [wos_data]\n",
      "\n",
      "    # Define the direct relationships between WoS fieldtags and Paper keys.\n",
      "    translator = {\n",
      "        'date':'date',\n",
      "        'keywords':'keywords'\n",
      "        #'count' : None\n",
      "        }\n",
      "   \n",
      "        \n",
      "      new_dict= {}\n",
      "      new_list= []\n",
      "    # Perform the key convertions\n",
      "    for wos_dict in wos_data:\n",
      "        paper = KeyPaper()\n",
      "        #direct translations\n",
      "        if wos_dict['keywords']:\n",
      "                print \"wos_dict\" , wos_dict['keywords']\n",
      "                for each_kw in wos_dict['keywords']:\n",
      "                    new_kw = each_kw.strip().upper() # convert to lowercase, even if it is not.\n",
      "                    #print \"new_kw\", new_kw , wos_dict['date'], paper['date']\n",
      "                     \n",
      "                    try:\n",
      "                        author_index = papers['keywords'].index(new_kw)\n",
      "                        print \"author_index\", author_index\n",
      "                        if wos_dict['date'] in paper['date']:\n",
      "                            #print \"OK\" , paper['keywords']\n",
      "                            if new_kw in papers['keywords']:\n",
      "                                paper['count'] += 1\n",
      "                                print \"HURRAH\", new_kw , paper\n",
      "                               \n",
      "                            else:\n",
      "                                #print \"Index:::\", papers.keys().index(paper['date'])\n",
      "                                paper['date'] = wos_dict['date']\n",
      "                                paper['keywords'] = new_kw\n",
      "                                paper['count'] = 1\n",
      "                                global_keywords.append(new_kw)\n",
      "                                print \"ELSE:\", new_kw , paper\n",
      "                                \n",
      "                    except:\n",
      "                        paper['date'] = wos_dict['date']\n",
      "                        paper['keywords']= new_kw\n",
      "                        global_keywords.append(new_kw)\n",
      "                        paper['count'] = 1\n",
      "                        print \"except::\", new_kw\n",
      "                        \n",
      "                    #paper[translator[key]] = wos_dict[key]\n",
      "        else:\n",
      "            #print \"else\"\n",
      "            pass\n",
      "        #papers.append(paper)\n",
      "        \n",
      "  \n",
      "    # End wos_dict for loop.\n"
     ],
     "language": "python",
     "metadata": {},
     "outputs": []
    },
    {
     "cell_type": "code",
     "collapsed": false,
     "input": [
      "papers"
     ],
     "language": "python",
     "metadata": {},
     "outputs": []
    },
    {
     "cell_type": "code",
     "collapsed": false,
     "input": [
      "import csv\n",
      "keys = ['date', 'keywords','count']\n",
      "f = open('new3.csv', 'wb')\n",
      "dict_writer = csv.DictWriter(f, keys)\n",
      "dict_writer.writer.writerow(keys)\n",
      "for dictionary in papers:\n",
      "    #print dictionary\n",
      "    for x in dictionary.itervalues():\n",
      "        if x:\n",
      "    #if any(x != '' for x in dictionary.itervalues()):\n",
      "            dict_writer.writerows(papers)\n",
      "\n",
      "\n"
     ],
     "language": "python",
     "metadata": {},
     "outputs": []
    },
    {
     "cell_type": "code",
     "collapsed": false,
     "input": [
      "from collections import defaultdict, deque\n",
      "main_list = []\n",
      "d = defaultdict(deque)\n",
      "main_dict = {}\n",
      "keywords_dict ={}\n",
      "keywords_list = []\n",
      "d_list = []\n",
      "import re\n",
      "for r in dir_papers:\n",
      "    if r['keywords']:\n",
      "        print \"############\"\n",
      "        print r['keywords'] , \"->keywords\" , r['date']\n",
      "        for each_kw in r['keywords']:\n",
      "            new_kw = each_kw.strip().lower() # convert to lowercase, even if it is not.\n",
      "            try:\n",
      "                if r['date'] in main_dict[r['date']]: \n",
      "                    if new_kw in keywords_dict:\n",
      "                        keywords_dict[new_kw] += 1\n",
      "                        main_dict[r['date']].append(keywords_dict[new_kw])\n",
      "                        print \"try:\", keywords_dict\n",
      "                    else:\n",
      "                        keywords_dict[new_kw] += 1\n",
      "                        main_dict[r['date']] = r['date']\n",
      "                        main_dict[r['date']].append(keywords_dict[new_kw])\n",
      "            except:\n",
      "                    #main_dict[r['date']] = r['date']\n",
      "                    keywords_dict[new_kw] = 1\n",
      "                    print main_dict,keywords_dict\n",
      "                    main_dict[r['date']] = keywords_dict[new_kw]\n",
      "                    print \"except else:\" , keywords_dict\n",
      "                \n",
      "keywords_list.append(keywords_dict)\n",
      "print \"list:\" , keywords_list\n",
      "#main_dict[r['date']] = keywords_list\n",
      "#main_dict[r['date']] = keywords_dict      \n",
      "   \n",
      "    \n",
      "    "
     ],
     "language": "python",
     "metadata": {},
     "outputs": []
    },
    {
     "cell_type": "code",
     "collapsed": false,
     "input": [],
     "language": "python",
     "metadata": {},
     "outputs": []
    },
    {
     "cell_type": "code",
     "collapsed": false,
     "input": [
      "main_dict"
     ],
     "language": "python",
     "metadata": {},
     "outputs": []
    },
    {
     "cell_type": "code",
     "collapsed": false,
     "input": [
      "# December 1\n",
      "main_list = []\n",
      "main_dict = {}\n",
      "keywords_dict ={}\n",
      "keywords_list = []\n",
      "for r in dir_papers:\n",
      "    if r['keywords']:\n",
      "        print \"Keywords::\" , r['keywords']\n",
      "        for each_kw in r['keywords']:\n",
      "            each_kw = each_kw.strip().lower() # convert to lowercase, even if it is not.\n",
      "            try:\n",
      "                print \"Date::\",r['date']\n",
      "                main_dict[r['date']][0].keys() # to direct it to main_dict\n",
      "                if r['date'] in main_dict.keys():\n",
      "                    print \"Existing Values:\", main_dict[r['date']]\n",
      "                    lst = [item.keys() for item in main_dict[r['date']]]\n",
      "                    val = [item.values() for item in main_dict[r['date']]]\n",
      "                        \n",
      "                    print \"lst:\" , lst       \n",
      "                    print \"val:\", val\n",
      "                    #print \"Existing Keys:\", main_dict[r['date']].keys()\n",
      "                    print \"Incoming KW:\", each_kw\n",
      "                    if any(each_kw in st for st in lst):\n",
      "                        for item in main_dict[r['date']]:\n",
      "                            print \"%%%%\"\n",
      "                            print item, type(item)\n",
      "                                \n",
      "                        \n",
      "                        \n",
      "                    #if each_kw in main_dict[r['date']][0].keys():\n",
      "                        print \"##ALREADY\"\n",
      "                        kw_index = main_dict[r['date']][0].keys().index(each_kw)\n",
      "                        print \"Index\" ,kw_index\n",
      "                        retr_kw = main_dict[r['date']][0].keys()[index]\n",
      "                        main_dict[r['date']][0][retr_kw] += 1\n",
      "                    else:\n",
      "                        print \"##else\"\n",
      "                        kw_index = main_dict[r['date']][0].keys().index(each_kw)\n",
      "                        print \"Index\" ,kw_index\n",
      "                        retr_kw = main_dict[r['date']][0].keys()[index]\n",
      "                        main_dict[r['date']][0][retr_kw] = 1\n",
      "                        \n",
      "                    \n",
      "                else:\n",
      "                    print \"else\", main_dict\n",
      "                    #keywords_dict[each_kw] = 1\n",
      "                    #keywords_list.append(keywords_dict)\n",
      "                    #main_dict[r['date']][0] = keywords_list\n",
      "                    #main_dict[r['date']][0][each_kw] = 1\n",
      "                    #keywords_list=\"\"\n",
      "                    #keywords_dict.clear()\n",
      "                    \n",
      "#                 keywords_dict[each_kw] += 1\n",
      "#                 keywords_list.append(keywords_dict)\n",
      "#                 main_dict[r['date']] = keywords_list\n",
      "            except:\n",
      "                print \"except\",main_dict\n",
      "                keywords_dict={}\n",
      "                keywords_dict[each_kw] = 1\n",
      "                keywords_list.append(keywords_dict)\n",
      "                main_dict[r['date']] = keywords_list\n",
      "                print \"keywords_dict\" , keywords_dict , \"keywords_list\", keywords_list\n",
      "                print \"maindict in except\" , main_dict\n",
      "                #main_dict[r['date']] = each_kw\n",
      "               \n",
      "#                 keywords_dict[each_kw] = 1\n",
      "#                 keywords_list.append(keywords_dict)\n",
      "#                 main_dict[r['date']] = keywords_list"
     ],
     "language": "python",
     "metadata": {},
     "outputs": []
    },
    {
     "cell_type": "code",
     "collapsed": false,
     "input": [
      "main_dict"
     ],
     "language": "python",
     "metadata": {},
     "outputs": []
    },
    {
     "cell_type": "code",
     "collapsed": false,
     "input": [
      "for k,v in main_dict.iteritems():\n",
      "    print k,v"
     ],
     "language": "python",
     "metadata": {},
     "outputs": []
    },
    {
     "cell_type": "code",
     "collapsed": false,
     "input": [
      "from collections import OrderedDict\n",
      "x = OrderedDict(((\"a\", \"1\"), (\"c\", '3'), (\"b\", \"2\")))\n",
      "x.keys().index(\"b\")"
     ],
     "language": "python",
     "metadata": {},
     "outputs": []
    },
    {
     "cell_type": "code",
     "collapsed": false,
     "input": [
      "li = [{' Environmental changes': 1, ' Production objectives': 1, 'Adaptation': 1, ' Multispecies herding': 1}]"
     ],
     "language": "python",
     "metadata": {},
     "outputs": []
    },
    {
     "cell_type": "code",
     "collapsed": false,
     "input": [
      "#print li[0].keys()\n",
      "lst = li[0].keys()\n",
      "print lst\n",
      "if \"Adaptation\" in li[0].keys():\n",
      "    print \"hi\"\n",
      "#index = li[0].keys().index('Adaptation')\n",
      "index22= lst.index('Adaptation')\n",
      "print index22"
     ],
     "language": "python",
     "metadata": {},
     "outputs": []
    },
    {
     "cell_type": "code",
     "collapsed": false,
     "input": [
      "str1 = li[0].keys()[index]\n",
      "li[0][str1] += 1"
     ],
     "language": "python",
     "metadata": {},
     "outputs": []
    },
    {
     "cell_type": "code",
     "collapsed": false,
     "input": [
      "\n",
      "li[0].values()"
     ],
     "language": "python",
     "metadata": {},
     "outputs": []
    },
    {
     "cell_type": "code",
     "collapsed": false,
     "input": [
      "# Working\n",
      "\n",
      "main_list = []\n",
      "main_dict = {}\n",
      "keywords_dict ={}\n",
      "keywords_list = []\n",
      "for r in dir_papers:\n",
      "    if r['keywords']:\n",
      "        #print r\n",
      "        print r['keywords']\n",
      "        for each_kw in r['keywords']:\n",
      "            #print each_kw\n",
      "            try:\n",
      "                print r['date']\n",
      "                if r['date'] in main_dict.keys():\n",
      "                    #author_index = wos_dict['AF'].index(author)\n",
      "                    print \"comes here\", each_kw, main_dict[r['date']]\n",
      "                    print \"VALUEs\", main_dict[r['date']]\n",
      "                    if each_kw in main_dict[r['date']]:\n",
      "                        print \"inside###\", each_kw\n",
      "                    \n",
      "                       \n",
      "                keywords_dict[each_kw] += 1\n",
      "                keywords_list.append(keywords_dict)\n",
      "                main_dict[r['date']] = keywords_list\n",
      "            except:\n",
      "                keywords_dict[each_kw] = 1\n",
      "                keywords_list.append(keywords_dict)\n",
      "                main_dict[r['date']] = keywords_list"
     ],
     "language": "python",
     "metadata": {},
     "outputs": []
    },
    {
     "cell_type": "code",
     "collapsed": false,
     "input": [
      "new = [{'adaptation': 1}, {'environmental changes': 1}, {'multispecies herding': 1}, {'production objectives': 1}, {'borana': 1}, {'ethiopia': 1}, {'ethiopia': 1}, {'ethiopia': 1}, {'adaptation': 1}, {'environmental changes': 1}, {'multispecies herding': 1}, {'production objectives': 1}, {'borana': 1}, {'ethiopia': 1}, {'ethiopia': 1}]"
     ],
     "language": "python",
     "metadata": {},
     "outputs": []
    },
    {
     "cell_type": "code",
     "collapsed": false,
     "input": [
      "new\n"
     ],
     "language": "python",
     "metadata": {},
     "outputs": []
    },
    {
     "cell_type": "code",
     "collapsed": false,
     "input": [
      "lst = [item.keys() for item in new]\n",
      "\n",
      "print lst\n",
      "each_kw = 'adaptation'\n",
      "print new\n",
      "if any(each_kw in s for s in lst):\n",
      "    print each_kw\n",
      "    print \"hisadadasd\""
     ],
     "language": "python",
     "metadata": {},
     "outputs": []
    },
    {
     "cell_type": "code",
     "collapsed": false,
     "input": [
      "st = \"ramki\"\n",
      "st[-3:-1]"
     ],
     "language": "python",
     "metadata": {},
     "outputs": [
      {
       "metadata": {},
       "output_type": "pyout",
       "prompt_number": 275,
       "text": [
        "'mk'"
       ]
      }
     ],
     "prompt_number": 275
    }
   ],
   "metadata": {}
  }
 ]
}